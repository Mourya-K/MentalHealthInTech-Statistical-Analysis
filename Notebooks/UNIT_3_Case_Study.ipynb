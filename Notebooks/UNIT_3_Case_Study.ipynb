{
  "cells": [
    {
      "cell_type": "markdown",
      "metadata": {
        "id": "feKpsh1RG3f3"
      },
      "source": [
        "# STATISTICS FOR CS\n",
        "* Section - A\n",
        "* 5th Semester\n",
        "* CASE STUDY - \"MENTAL HEALTH IN TECH\""
      ]
    },
    {
      "cell_type": "markdown",
      "metadata": {
        "id": "vrBW6oL5G9DE"
      },
      "source": [
        "## GROUP MEMBERS\n",
        "- **CHATURTH R** [21BCS025]\n",
        "- **KAKARAPU MOURYA** [21BCS049]\n",
        "- **KARTHIK AVINASH** [21BCS052]"
      ]
    },
    {
      "cell_type": "markdown",
      "metadata": {
        "id": "73tMQY9oHFYq"
      },
      "source": [
        "_____________\n",
        "# 1.Runs Test\n",
        "______________"
      ]
    },
    {
      "cell_type": "markdown",
      "metadata": {
        "id": "vX2NZUce87mU"
      },
      "source": [
        "_____________________________________________\n",
        "- **Null Hypothesis (H0):**  There is no association between getting treatment and having a family history of mental health issues.\n",
        "\n",
        "- **Alternative Hypothesis (H1):**  There is an association between getting treatment and having a family history of mental health issues.\n",
        "_________________________________________________"
      ]
    },
    {
      "cell_type": "code",
      "execution_count": 1,
      "metadata": {},
      "outputs": [],
      "source": [
        "import pandas as pd\n",
        "df = pd.read_csv(\"data.csv\")"
      ]
    },
    {
      "cell_type": "code",
      "execution_count": 2,
      "metadata": {
        "colab": {
          "base_uri": "https://localhost:8080/"
        },
        "id": "gWnoXWH0GctP",
        "outputId": "1e938cfc-dfd7-4acc-8fe2-90d884e442d7"
      },
      "outputs": [
        {
          "name": "stdout",
          "output_type": "stream",
          "text": [
            "Step 1: Hypothesis Statement and Claim:\n",
            "Hypothesis_statement: People have filled the form for mental health in tech in random, according to gender (Claim).\n",
            "Alternative Statement: People have not filled the form for mental health in tech in random, according to gender. \n",
            "\n",
            "Runs of gender:\n",
            "1 Female's\n",
            "5 Male's\n",
            "1 Female's\n",
            "1 Male's\n",
            "1 Female's\n",
            "3 Male's\n",
            "1 Female's\n",
            "2 Male's\n",
            "\n",
            "Number of males(n1): 11\n",
            "Number of females(n2): 4\n",
            "\n",
            "Number of runs: 8\n",
            "Critical values are 3 and 10\n",
            "\n",
            "Since number of runs is between 3 and 10\n",
            "We do not reject the null hypothesis.\n",
            "\n",
            "Step 5: Summary\n",
            "There is not enough evidence to reject the null hypothesis.\n",
            "=> People have filled the form for mental health in random, according to gender.\n"
          ]
        }
      ],
      "source": [
        "df_subset = df.head(15)\n",
        "\n",
        "timeStamp_Gender = df_subset[['Timestamp', 'Gender']].values.tolist()\n",
        "\n",
        "Hypothesis_statement = \"People have filled the form for mental health in tech in random, according to gender (Claim).\"\n",
        "Alternative_statement = \"People have not filled the form for mental health in tech in random, according to gender.\"\n",
        "\n",
        "print(\"Step 1: Hypothesis Statement and Claim:\")\n",
        "print(\"Hypothesis_statement:\", Hypothesis_statement)\n",
        "print(\"Alternative Statement:\", Alternative_statement, \"\\n\")\n",
        "\n",
        "runs = []\n",
        "current_run = [timeStamp_Gender[0][1]]\n",
        "for i in range(1, len(timeStamp_Gender)):\n",
        "    if timeStamp_Gender[i][1] == current_run[-1]:\n",
        "        current_run.append(timeStamp_Gender[i][1])\n",
        "    else:\n",
        "        runs.append(current_run)\n",
        "        current_run = [timeStamp_Gender[i][1]]\n",
        "\n",
        "runs.append(current_run)\n",
        "\n",
        "print(\"Runs of gender:\")\n",
        "for run in runs:\n",
        "    print(f\"{len(run)} {run[0]}'s\")\n",
        "r = len(runs)\n",
        "\n",
        "male_count = df_subset[df_subset['Gender'] == 'Male'].shape[0]\n",
        "female_count = df_subset[df_subset['Gender'] == 'Female'].shape[0]\n",
        "\n",
        "print(\"\\nNumber of males(n1):\", male_count)\n",
        "print(\"Number of females(n2):\", female_count)\n",
        "print(\"\\nNumber of runs:\", r)\n",
        "\n",
        "critical_low = 3\n",
        "critical_high = 10\n",
        "\n",
        "print(f'Critical values are {critical_low} and {critical_high}\\n')\n",
        "\n",
        "print(f'Since number of runs is between {critical_low} and {critical_high}')\n",
        "\n",
        "reject = True\n",
        "if critical_low <= r <= critical_high:\n",
        "    print(\"We do not reject the null hypothesis.\")\n",
        "    reject = False\n",
        "else:\n",
        "    print(\"We do reject the null hypothesis.\")\n",
        "    reject = True\n",
        "\n",
        "print(\"\\nStep 5: Summary\")\n",
        "if reject:\n",
        "    print(\"There is enough evidence to reject the null hypothesis that people have filled the form for mental health in random, according to gender.\")\n",
        "else:\n",
        "    print(\"There is not enough evidence to reject the null hypothesis.\")\n",
        "    print(\"=> People have filled the form for mental health in random, according to gender.\")"
      ]
    },
    {
      "cell_type": "markdown",
      "metadata": {
        "id": "XyJ_XyxzHca2"
      },
      "source": [
        "_____________\n",
        "# 2. Sign Test - One Sample\n",
        "_____________"
      ]
    },
    {
      "cell_type": "markdown",
      "metadata": {
        "id": "qxynXdWPb5ck"
      },
      "source": [
        "____________________________________________________\n",
        "\n",
        "*   **Null Hypothesis:** The population median age is equal to the hypothesized\n",
        "value.\n",
        "*   **Alternative Hypothesis:** There is a significant difference between the population median age and the hypothesized value.\n",
        "____________________________________________________"
      ]
    },
    {
      "cell_type": "code",
      "execution_count": 3,
      "metadata": {
        "colab": {
          "base_uri": "https://localhost:8080/"
        },
        "id": "RfukMomHHjgu",
        "outputId": "049270b5-a593-4922-ed4b-f27fd19edadc"
      },
      "outputs": [
        {
          "name": "stdout",
          "output_type": "stream",
          "text": [
            "Critical value is  3\n",
            "Hypotheses:\n",
            "  Null Hypothesis (H0): The population median age is equal to 30.\n",
            "  Alternative Hypothesis (H1): There is a significant difference between the population median age and 30.\n",
            "Sign Counts:\n",
            "  +'s: 12\n",
            "  -'s: 3\n",
            "  0's: 0\n",
            "\n",
            "Minimum of +'s and -'s is 3\n",
            "Test Value: 3\n",
            "Result: Reject the null hypothesis\n"
          ]
        }
      ],
      "source": [
        "hypothesized_median = 30\n",
        "\n",
        "subset = df['Age'].head(15)\n",
        "\n",
        "subset['Signs'] = subset.apply(lambda x: '+' if x > hypothesized_median else '-' if x < hypothesized_median else '0')\n",
        "\n",
        "if subset['Signs'].eq('0').all():\n",
        "    print(\"Data supports the null hypothesis. Stop.\")\n",
        "else:\n",
        "    sign_counts = subset['Signs'].value_counts()\n",
        "\n",
        "    positive_count = sign_counts.get('+', 0)\n",
        "    negative_count = sign_counts.get('-', 0)\n",
        "    zero_count = sign_counts.get('0', 0)\n",
        "\n",
        "\n",
        "    test_value = min(positive_count, negative_count)\n",
        "\n",
        "    alpha = 0.05\n",
        "    critical_value = 3\n",
        "    print(\"Critical value is \", critical_value)\n",
        "\n",
        "    if test_value <= critical_value:\n",
        "        result = 'Reject the null hypothesis'\n",
        "    else:\n",
        "        result = 'Fail to reject the null hypothesis'\n",
        "\n",
        "    print(f'Hypotheses:')\n",
        "    print(f'  Null Hypothesis (H0): The population median age is equal to {hypothesized_median}.')\n",
        "    print(f'  Alternative Hypothesis (H1): There is a significant difference between the population median age and {hypothesized_median}.')\n",
        "    print(f'Sign Counts:')\n",
        "    print(f'  +\\'s: {positive_count}')\n",
        "    print(f'  -\\'s: {negative_count}')\n",
        "    print(f'  0\\'s: {zero_count}')\n",
        "    print(\"\\nMinimum of +'s and -'s is 3\")\n",
        "    print(f'Test Value: {test_value}')\n",
        "    print(f'Result: {result}')"
      ]
    },
    {
      "cell_type": "markdown",
      "metadata": {
        "id": "nHhIVY7jHko8"
      },
      "source": [
        "___________________\n",
        "# 3. Paired Sample - Sign Test\n",
        "__________"
      ]
    },
    {
      "cell_type": "markdown",
      "metadata": {
        "id": "Qzqcp8s4JLIN"
      },
      "source": [
        "_______________________\n",
        "- **Null Hypothesis (H0):** There is no relationship between having a family history of mental illness and the likelihood of seeking treatment for a mental health condition.\n",
        "\n",
        "- **Alternative Hypothesis (H1):** There is a relationship between having a family history of mental illness and the likelihood of seeking treatment for a mental health condition.\n",
        "___________________________________"
      ]
    },
    {
      "cell_type": "code",
      "execution_count": 4,
      "metadata": {
        "colab": {
          "base_uri": "https://localhost:8080/"
        },
        "id": "56wRio5JWYFJ",
        "outputId": "c4f0da31-775e-4a4a-e56f-b980748abd74"
      },
      "outputs": [
        {
          "name": "stdout",
          "output_type": "stream",
          "text": [
            "Null Hypothesis (H0): There is no relationship between having a family history of mental illness and the likelihood of seeking treatment for a mental health condition.\n",
            "Alternative Hypothesis (H1): There is a relationship between having a family history of mental illness and the likelihood of seeking treatment for a mental health condition.\n",
            "\n",
            "Step 3: Positive Differences = 123\n",
            "Step 3: Negative Differences = 264\n",
            "Step 4: Test Value = 123\n",
            "Step 5: Sample Size (n) = 1218\n",
            "Step 5: For Large Samples (n >= 26):\n",
            "  - Significance Level (alpha) = 0.05\n",
            "  - Z-Critical Value = 1.959963984540054\n",
            "Test statistic can be obtained from the formula, Z = [(X + 0.05) - (n/2)]/sqrt(n/2), where X is test value, in this case equal to 123 and n = 1218 \n",
            "  - Test Statistic = -19.691687730650333\n",
            "  - Is |Test Statistic| <= Z-Critical Value? False\n",
            "Result: Do not reject the null hypothesis\n"
          ]
        }
      ],
      "source": [
        "import pandas as pd\n",
        "import numpy as np\n",
        "from scipy import stats\n",
        "\n",
        "df = pd.read_csv('data.csv')\n",
        "\n",
        "family_history = df['family_history'].map({'Yes': 1, 'No': 0})\n",
        "treatment = df['treatment'].map({'Yes': 1, 'No': 0})\n",
        "differences = family_history - treatment\n",
        "\n",
        "positive_diff = np.sum(differences > 0)\n",
        "negative_diff = np.sum(differences < 0)\n",
        "\n",
        "test_value = min(positive_diff, negative_diff)\n",
        "\n",
        "n = len(differences)\n",
        "\n",
        "null_hypothesis = \"There is no relationship between having a family history of mental illness and the likelihood of seeking treatment for a mental health condition.\"\n",
        "alternative_hypothesis = \"There is a relationship between having a family history of mental illness and the likelihood of seeking treatment for a mental health condition.\"\n",
        "\n",
        "if n < 26:\n",
        "    critical_value = 10\n",
        "    if abs(test_value) <= critical_value:\n",
        "        result = \"Do not reject the null hypothesis\"\n",
        "    else:\n",
        "        result = \"Reject the null hypothesis\"\n",
        "else:\n",
        "    alpha = 0.05\n",
        "    z_critical = stats.norm.ppf(1 - alpha / 2)\n",
        "    test_statistic = ((test_value + 0.05) - (n/2)) / np.sqrt(n/2)\n",
        "\n",
        "    if abs(test_statistic) <= z_critical:\n",
        "        result = \"Reject the null hypothesis\"\n",
        "    else:\n",
        "        result = \"Do not reject the null hypothesis\"\n",
        "\n",
        "print(\"Null Hypothesis (H0):\", null_hypothesis)\n",
        "print(\"Alternative Hypothesis (H1):\", alternative_hypothesis)\n",
        "print()\n",
        "print(\"Step 3: Positive Differences =\", positive_diff)\n",
        "print(\"Step 3: Negative Differences =\", negative_diff)\n",
        "print(\"Step 4: Test Value =\", test_value)\n",
        "print(\"Step 5: Sample Size (n) =\", n)\n",
        "\n",
        "if n < 26:\n",
        "    print(\"Step 5: For Small Samples (n < 26):\")\n",
        "    print(f\"  - Critical Value = {critical_value}\")\n",
        "    print(f\"  - |Test Value| <= Critical Value ? {abs(test_value) <= critical_value}\")\n",
        "else:\n",
        "    print(\"Step 5: For Large Samples (n >= 26):\")\n",
        "    print(f\"  - Significance Level (alpha) = {alpha}\")\n",
        "    print(f\"  - Z-Critical Value = {z_critical}\")\n",
        "    print(f'Test statistic can be obtained from the formula, Z = [(X + 0.05) - (n/2)]/sqrt(n/2), where X is test value, in this case equal to {test_value} and n = {n} ')\n",
        "    print(f\"  - Test Statistic = {test_statistic}\")\n",
        "    print(f\"  - Is |Test Statistic| <= Z-Critical Value? {abs(test_statistic) <= z_critical}\")\n",
        "\n",
        "print(\"Result:\", result)\n"
      ]
    },
    {
      "cell_type": "markdown",
      "metadata": {
        "id": "fs8WgyaeH_lh"
      },
      "source": [
        "________________\n",
        "# 4. Wilcoxon Rank Sum Test or Mann-Whitney U test\n",
        "_________________"
      ]
    },
    {
      "cell_type": "markdown",
      "metadata": {
        "id": "rz6boAA1Yq5t"
      },
      "source": [
        "_____________________________\n",
        "- **Null Hypothesis (H0):**  There is no difference in the ages of individuals who have received mental health treatment and those who have not received treatment.\n",
        "\n",
        "- **Alternative Hypothesis (H1):**  There is a difference in the ages of individuals who have received mental health treatment and those who have not received treatment (claim).\n",
        "__________________________________"
      ]
    },
    {
      "cell_type": "code",
      "execution_count": 5,
      "metadata": {
        "colab": {
          "base_uri": "https://localhost:8080/"
        },
        "id": "Lr2f7XoHIJR1",
        "outputId": "7d5e73c3-7fe2-4532-98f3-f20c44293bf0"
      },
      "outputs": [
        {
          "name": "stdout",
          "output_type": "stream",
          "text": [
            "Step 1: State the hypotheses and identify the claim.\n",
            "H0: There is no difference in the ages of individuals who have received mental health treatment and those who have not received treatment.\n",
            "H1: There is a difference in the ages of individuals who have received mental health treatment and those who have not received treatment (claim).\n",
            "\n",
            "Step 2: Find the critical value.\n",
            "Using alpha (α) significance level (e.g., α = 0.05) and a two-tailed test.\n",
            "Critical value is 1.9599639845400545\n",
            "\n",
            "Step 3: Compute the test value.\n",
            "a. Combine the data from the two groups and rank them.\n",
            "b. Find the smaller group\n",
            "\n",
            "n1 = 613\n",
            "n2 = 605\n",
            "\n",
            "So size of smaller group is 605\n",
            "Sum of ranks of smaller group R = 372588\n",
            "\n",
            "c. Calculate the Mann-Whitney U Statistic U (μ): 368747.5\n",
            "d. Calculate the standard error (σ): 6137.890754702846\n",
            "\n",
            "Step 4: Use these formulas to find the test value.\n",
            "Z_calculated = 0.6257035443417452\n",
            "Z_tabulated = 1.9599639845400545\n",
            "Fail to reject the null hypothesis: \n",
            "There is no difference in the ages of individuals who have received mental health treatment and those who have not received treatment.\n"
          ]
        }
      ],
      "source": [
        "import pandas as pd\n",
        "from scipy.stats import mannwhitneyu, norm\n",
        "\n",
        "df = pd.read_csv('data.csv')\n",
        "\n",
        "group1 = df[df[\"treatment\"] == \"Yes\"][\"Age\"].values\n",
        "group2 = df[df[\"treatment\"] == \"No\"][\"Age\"].values\n",
        "\n",
        "alpha = 0.05\n",
        "\n",
        "z_tab = abs(norm.ppf(alpha / 2))\n",
        "combined_data = np.concatenate((group1, group2))\n",
        "ranks = np.argsort(combined_data) + 1\n",
        "n1 = len(group1)\n",
        "n2 = len(group2)\n",
        "smaller_group = min(len(group1), len(group2))\n",
        "R = np.sum(ranks[:len(group1)]) if len(group1) < len(group2) else np.sum(ranks[:len(group2)])\n",
        "U = smaller_group * (len(group1) + len(group2) + 1) / 2\n",
        "\n",
        "Sigma = np.sqrt(len(group1) * len(group2) * (len(group1) + len(group2) + 1) / 12)\n",
        "\n",
        "z_cal = np.abs(R - U) / Sigma\n",
        "\n",
        "print(\"Step 1: State the hypotheses and identify the claim.\")\n",
        "print(\"H0: There is no difference in the ages of individuals who have received mental health treatment and those who have not received treatment.\")\n",
        "print(\"H1: There is a difference in the ages of individuals who have received mental health treatment and those who have not received treatment (claim).\\n\")\n",
        "\n",
        "print(\"Step 2: Find the critical value.\")\n",
        "print(f\"Using alpha (α) significance level (e.g., α = {alpha}) and a two-tailed test.\")\n",
        "\n",
        "print(f'Critical value is {z_tab}\\n')\n",
        "\n",
        "print(\"Step 3: Compute the test value.\")\n",
        "print(\"a. Combine the data from the two groups and rank them.\")\n",
        "\n",
        "print(\"b. Find the smaller group\\n\")\n",
        "\n",
        "print(f'n1 = {n1}')\n",
        "print(f'n2 = {n2}')\n",
        "\n",
        "print(f'\\nSo size of smaller group is {smaller_group}')\n",
        "print(f\"Sum of ranks of smaller group R = {R}\\n\")\n",
        "print(f\"c. Calculate the Mann-Whitney U Statistic U (μ): {U}\")\n",
        "print(\"d. Calculate the standard error (σ):\", Sigma)\n",
        "print(\"\\nStep 4: Use these formulas to find the test value.\")\n",
        "print(f\"Z_calculated = {z_cal}\")\n",
        "print(f\"Z_tabulated = {z_tab}\")\n",
        "\n",
        "if z_cal < z_tab:\n",
        "    print('Fail to reject the null hypothesis: \\nThere is no difference in the ages of individuals who have received mental health treatment and those who have not received treatment.')\n",
        "else:\n",
        "    print('Reject the null hypothesis: \\nThere is a difference in the ages of individuals who have received mental health treatment and those who have not received treatment.')"
      ]
    },
    {
      "cell_type": "markdown",
      "metadata": {
        "id": "-DfpcEggIKTP"
      },
      "source": [
        "________________________\n",
        "# 5. Wilcoxon Signed Rank Test\n",
        "\n",
        "_______________"
      ]
    },
    {
      "cell_type": "markdown",
      "metadata": {
        "id": "5u-UTGqvY6vO"
      },
      "source": [
        "___________________________\n",
        "- Hypothesis Statement:\n",
        "The participation in a wellness program has a significant effect on reducing the mental health consequences reported by employees in a tech company.\n",
        "\n",
        "- **Null Hypothesis (H0):**\n",
        "There is no significant difference in the mental health consequences reported by employees in a tech company before and after participating in a wellness program.\n",
        "\n",
        "- **Alternative Hypothesis (H1):**\n",
        "Participating in a wellness program is associated with a reduction in the mental health consequences reported by employees in a tech company.\n",
        "_________________________________________"
      ]
    },
    {
      "cell_type": "code",
      "execution_count": 6,
      "metadata": {
        "colab": {
          "base_uri": "https://localhost:8080/"
        },
        "id": "OvcRn_79ITBB",
        "outputId": "107590e0-1844-4c4a-9439-9d4c741e8d0e"
      },
      "outputs": [
        {
          "name": "stdout",
          "output_type": "stream",
          "text": [
            "Step 1: State the hypotheses and identify the claim.\n",
            "Hypothesis Statement:\n",
            "\n",
            "Null Hypothesis (H0):\n",
            "There is no relationship between having a family history of mental illness and the likelihood of seeking treatment for a mental health condition.\n",
            "\n",
            "Alternative Hypothesis (H1):\n",
            "There is a relationship between having a family history of mental illness and the likelihood of seeking treatment for a mental health condition.\n",
            "Step 2: Find the critical value\n",
            "Z-Tabulated = 1.9599639845400545\n",
            "\n",
            "Step 3: Compute the test value.\n",
            "Creating a table of before, after, difference, absolute difference, rank, signed rank\n",
            "\n",
            "Step 4: Finding Z_calculated\n",
            "Z_cal = 30.220345527006767\n",
            "\n",
            "Step 5: Make the decision.\n",
            "Reject the null hypothesis: \n",
            "There is a relationship between having a family history of mental illness and the likelihood of seeking treatment for a mental health condition.\n"
          ]
        }
      ],
      "source": [
        "import pandas as pd\n",
        "\n",
        "df = pd.read_csv('data.csv')\n",
        "\n",
        "before = df['family_history'].map({'Yes': 1, 'No': 0})\n",
        "after = df['treatment'].map({'Yes': 1, 'No': 0})\n",
        "\n",
        "alpha = 0.05\n",
        "\n",
        "z_tab = abs(norm.ppf(alpha / 2))\n",
        "\n",
        "difference = before - after\n",
        "\n",
        "absolute_difference = abs(difference)\n",
        "\n",
        "ranked_values = absolute_difference.rank()\n",
        "\n",
        "signed_ranks = difference / absolute_difference\n",
        "\n",
        "table = pd.DataFrame({\n",
        "    'Family History (Before)': before,\n",
        "    'Treatment (After)': after,\n",
        "    'Difference': difference,\n",
        "    'Absolute Value': absolute_difference,\n",
        "    'Rank': ranked_values,\n",
        "    'Signed Rank': signed_ranks\n",
        "})\n",
        "\n",
        "\n",
        "sum_positive_ranks = signed_ranks[signed_ranks > 0].sum()\n",
        "sum_negative_ranks = signed_ranks[signed_ranks < 0].sum()\n",
        "\n",
        "n = len(before)\n",
        "test_value = min(abs(sum_positive_ranks), abs(sum_negative_ranks))\n",
        "\n",
        "z_cal = abs((test_value - (n * (n + 1) / 4)) / ((n * (n + 1) * (2 * n + 1)) / 24)**0.5)\n",
        "\n",
        "print(\"Step 1: State the hypotheses and identify the claim.\")\n",
        "print(\"Hypothesis Statement:\")\n",
        "print(\"\\nNull Hypothesis (H0):\")\n",
        "print(\"There is no relationship between having a family history of mental illness and the likelihood of seeking treatment for a mental health condition.\")\n",
        "print(\"\\nAlternative Hypothesis (H1):\")\n",
        "print(\"There is a relationship between having a family history of mental illness and the likelihood of seeking treatment for a mental health condition.\")\n",
        "\n",
        "print('Step 2: Find the critical value')\n",
        "print(f\"Z-Tabulated = {z_tab}\")\n",
        "\n",
        "print(\"\\nStep 3: Compute the test value.\")\n",
        "print(\"Creating a table of before, after, difference, absolute difference, rank, signed rank\")\n",
        "\n",
        "print(\"\\nStep 4: Finding Z_calculated\")\n",
        "print(f\"Z_cal = {z_cal}\")\n",
        "\n",
        "print(\"\\nStep 5: Make the decision.\")\n",
        "\n",
        "if z_cal < z_tab:\n",
        "    print('Fail to reject the null hypothesis: \\nThere is no relationship between having a family history of mental illness and the likelihood of seeking treatment for a mental health condition.')\n",
        "else:\n",
        "    print('Reject the null hypothesis: \\nThere is a relationship between having a family history of mental illness and the likelihood of seeking treatment for a mental health condition.')\n"
      ]
    },
    {
      "cell_type": "markdown",
      "metadata": {
        "id": "UxUS0dcAIT9X"
      },
      "source": [
        "<center> <h2>*** THANK YOU SIR ***</h2></center>"
      ]
    },
    {
      "cell_type": "markdown",
      "metadata": {
        "id": "0wGCbNwgLPOb"
      },
      "source": [
        "___"
      ]
    }
  ],
  "metadata": {
    "colab": {
      "provenance": []
    },
    "kernelspec": {
      "display_name": "Python 3 (ipykernel)",
      "language": "python",
      "name": "python3"
    },
    "language_info": {
      "codemirror_mode": {
        "name": "ipython",
        "version": 3
      },
      "file_extension": ".py",
      "mimetype": "text/x-python",
      "name": "python",
      "nbconvert_exporter": "python",
      "pygments_lexer": "ipython3",
      "version": "3.11.2"
    }
  },
  "nbformat": 4,
  "nbformat_minor": 0
}
