{
  "cells": [
    {
      "cell_type": "markdown",
      "metadata": {
        "id": "T4BJliGXY_vf"
      },
      "source": [
        "_____________________\n",
        "# STATISTICS FOR CS\n",
        "## Section - A\n",
        "### 5th Semester\n",
        "#### CASE STUDY\n",
        "____________________"
      ]
    },
    {
      "cell_type": "markdown",
      "metadata": {
        "id": "oJkMQ7-0kBlB"
      },
      "source": [
        "_____________________________\n",
        "# MENTAL HEALTH IN TECH\n",
        "_______________________________\n",
        "## GROUP MEMBERS\n",
        "- **CHATURTH R** [21BCS025]\n",
        "- **KAKARAPU MOURYA** [21BCS049]\n",
        "- **KARTHIK AVINASH** [21BCS052]\n",
        "\n",
        "_______________\n"
      ]
    },
    {
      "cell_type": "code",
      "execution_count": 1,
      "metadata": {},
      "outputs": [],
      "source": [
        "def get_Z_TAB(side,significance_level):\n",
        "    z_table = {\n",
        "        0.01: {2: 2.576, 1: 2.326},\n",
        "        0.05: {2: 1.960, 1: 1.645},\n",
        "        0.10: {2: 1.645, 1: 1.282}\n",
        "    }\n",
        "\n",
        "    if significance_level in z_table:\n",
        "        if side in [2, 1]:\n",
        "            return z_table[significance_level][side]\n",
        "        else:\n",
        "            raise ValueError(\"Invalid side. Use 2 or 1.\")\n",
        "    else:\n",
        "        raise ValueError(\"Invalid significance level. Use 0.01, 0.05, or 0.10.\")\n"
      ]
    },
    {
      "cell_type": "code",
      "execution_count": 2,
      "metadata": {
        "id": "REh4ygjYX1C8"
      },
      "outputs": [],
      "source": [
        "import pandas as pd\n",
        "import matplotlib.pyplot as plt\n",
        "import numpy as np\n",
        "import seaborn as sns"
      ]
    },
    {
      "cell_type": "markdown",
      "metadata": {
        "id": "o87wOUXSX1DC"
      },
      "source": [
        "_______\n",
        "# Large One-Sample Z-Test for Population Mean"
      ]
    },
    {
      "cell_type": "markdown",
      "metadata": {
        "id": "GfvH6W6qX1DE"
      },
      "source": [
        "\n",
        "**Hypothesis Statements:**\n",
        "* **Null Hypothesis (H0)**: The null hypothesis is a statement that there is no significant difference in likelihood based on company size. Specifically, it states that the population mean of \"no_employees_numerical\" (company size) is equal to the hypothesized mean \"mu_hypothesis,\" which is 30.\n",
        "\n",
        "* **Alternative Hypothesis (Ha)**: The alternative hypothesis is the statement that contradicts the null hypothesis. In this case, it states that a significant difference exists in likelihood based on company size. It suggests that the population mean of \"no_employees_numerical\" is not equal to the hypothesized mean \"mu_hypothesis,\" which is 30."
      ]
    },
    {
      "cell_type": "code",
      "execution_count": 3,
      "metadata": {
        "colab": {
          "base_uri": "https://localhost:8080/"
        },
        "id": "pBYtBhk6X1DF",
        "outputId": "08ddfc34-4a8b-47fc-82a6-e174cef9b743"
      },
      "outputs": [
        {
          "name": "stdout",
          "output_type": "stream",
          "text": [
            "Sample Mean: 32.8\n",
            "Claimed Mean: 35\n",
            "\n",
            "Step 1: Hypothesis statements: \n",
            "H0: The average age of employees undergoing treatement in the tech industry is 35 years.\n",
            "H1: The average age of employees undergoing treatement in the tech industry is less than or greater than 35 years.\n",
            "\n",
            "Step 2: Z_CAL calculation: \n",
            "Z-cal: 3.0116675599069387\n",
            "\n",
            "Step 3: Z_TAB value: \n",
            "Z-tab: (0.05 significance level,2 tailed test ): 1.96\n",
            "\n",
            "Step 4: Decision Making\n",
            "Z_cal > Z_tab. So, Reject the null hypothesis. \n",
            "\n",
            "Step 5: Summary:\n",
            "There is enough evidence to reject the null hypothesis. The average age of tech employees in the tech company is not 35 years.\n",
            "\n",
            "Step 6: Confidence Interval: alpha = 0.05\n",
            "Lower Bound: 31.368235067706724\n",
            "Upper Bound: 34.231764932293274\n"
          ]
        }
      ],
      "source": [
        "import pandas as pd\n",
        "from scipy import stats\n",
        "\n",
        "df = pd.read_csv('data.csv')\n",
        "\n",
        "df = df[df['treatment'] == 'Yes']\n",
        "claim_mean = 35\n",
        "sample_size = 100\n",
        "sample_data = df['Age'].sample(n=sample_size, random_state=42)\n",
        "\n",
        "sample_mean = sample_data.mean()\n",
        "sample_std = sample_data.std()\n",
        "\n",
        "tail = 2\n",
        "alpha = 0.05\n",
        "\n",
        "# Perform one-sample Z-test\n",
        "z_cal = (sample_mean - claim_mean) / (sample_std / ((sample_size-1) ** 0.5))\n",
        "\n",
        "# Get the critical Z-score from the standard normal distribution for the given alpha\n",
        "z_tab = get_Z_TAB(side=tail,significance_level = alpha)\n",
        "\n",
        "null_hypothesis = f\"The average age of employees undergoing treatement in the tech industry is {claim_mean} years.\"\n",
        "alternative_hypothesis = f\"The average age of employees undergoing treatement in the tech industry is less than or greater than {claim_mean} years.\"\n",
        "\n",
        "print(f\"Sample Mean: {sample_mean}\")\n",
        "print(f\"Claimed Mean: {claim_mean}\")\n",
        "\n",
        "print(\"\\nStep 1: Hypothesis statements: \")\n",
        "print(f\"H0: {null_hypothesis}\")\n",
        "print(f\"H1: {alternative_hypothesis}\")\n",
        "\n",
        "print(\"\\nStep 2: Z_CAL calculation: \")\n",
        "print(f\"Z-cal: {abs(z_cal)}\")\n",
        "\n",
        "print(\"\\nStep 3: Z_TAB value: \")\n",
        "print(f\"Z-tab: ({alpha} significance level,{tail} tailed test ): {z_tab}\")\n",
        "\n",
        "print(\"\\nStep 4: Decision Making\")\n",
        "\n",
        "if abs(z_cal) > z_tab:\n",
        "    print(f\"Z_cal > Z_tab. So, Reject the null hypothesis. \\n\\nStep 5: Summary:\\nThere is enough evidence to reject the null hypothesis. The average age of tech employees in the tech company is not {claim_mean} years.\")\n",
        "else:\n",
        "    print(f\"Z_cal < Z_tab. So, Fail to reject the null hypothesis.\\n\\nStep 5: Summary:\\n There is no enough evidence to reject the null hypothesis. The average age of tech employees in the tech company is {claim_mean} years.\")\n",
        "    \n",
        "print(f\"\\nStep 6: Confidence Interval: alpha = {alpha}\")\n",
        "\n",
        "print(f\"Lower Bound: {sample_mean - (z_tab*(sample_std / ((sample_size-1) ** 0.5)))}\")\n",
        "print(f\"Upper Bound: {sample_mean + (z_tab*(sample_std / ((sample_size-1) ** 0.5)))}\")"
      ]
    },
    {
      "cell_type": "markdown",
      "metadata": {
        "id": "ZM7iP72VlWr4"
      },
      "source": [
        "# Large Two - Sample Z-Test for Population Mean"
      ]
    },
    {
      "cell_type": "markdown",
      "metadata": {
        "id": "QsiaBsokX1DG"
      },
      "source": [
        "**Hypothesis Statements:**\n",
        "\n",
        "* **Null Hypothesis (H0)**: There is no significant difference in the mean age between individuals who received mental health treatment (\"Yes\" in the \"treatment\" column) and individuals who did not receive treatment (\"No\" in the \"treatment\" column) in the population.\n",
        "\n",
        "* **Alternative Hypothesis (Ha)**: There is a significant difference in the mean age between individuals who received mental health treatment and individuals who did not receive treatment in the population."
      ]
    },
    {
      "cell_type": "code",
      "execution_count": 4,
      "metadata": {
        "colab": {
          "base_uri": "https://localhost:8080/"
        },
        "id": "wZPFU6WxX1DH",
        "outputId": "aa2979f7-ad85-43ff-f1f7-7af33b7d7a30"
      },
      "outputs": [
        {
          "name": "stdout",
          "output_type": "stream",
          "text": [
            "n1: 60, n2: 70\n",
            "\n",
            "Step 1: Hypothesis statements: \n",
            "H0: There is no significant difference in the mean age between individuals who received mental health treatment and individuals who did not receive treatment.\n",
            "H1: There is significant difference in the mean age between individuals who received mental health treatment and individuals who did not receive treatment.\n",
            "\n",
            "Step 2: Z_CAL calculation: \n",
            "Z-cal: 0.36719698648416305\n",
            "\n",
            "Step 3: Z_TAB value: \n",
            "Z-tab: (0.05 significance level,2 tailed test ): 1.96\n",
            "\n",
            "Step 4: Decision Making\n",
            "Fail to reject the null hypothesis (H0).\n",
            "\n",
            "Step 5:Conclusion\n",
            "  There is no significant difference between the two samples.\n",
            "Confidence Interval: (-2.0346040098389833, 2.9726992479342127)\n"
          ]
        }
      ],
      "source": [
        "import pandas as pd\n",
        "import numpy as np\n",
        "from scipy import stats\n",
        "\n",
        "df = pd.read_csv('data.csv')\n",
        "\n",
        "H0 = \"There is no significant difference in the mean age between individuals who received mental health treatment and individuals who did not receive treatment.\"\n",
        "H1 = \"There is significant difference in the mean age between individuals who received mental health treatment and individuals who did not receive treatment.\"\n",
        "\n",
        "sample_size_1 = 60\n",
        "sample_size_2 = 70\n",
        "\n",
        "sample1 = df[df['treatment'] == 'Yes']['Age'].sample(n=sample_size_1, random_state=42)\n",
        "sample2 = df[df['treatment'] == 'No']['Age'].sample(n=sample_size_2, random_state=42)\n",
        "\n",
        "sp = df[\"Age\"].std()\n",
        "\n",
        "alpha = 0.05\n",
        "tail = 2\n",
        "Z_TAB = get_Z_TAB(side=tail,significance_level=alpha)\n",
        "\n",
        "n1 = len(sample1)  \n",
        "n2 = len(sample2)  \n",
        "print(f\"n1: {n1}, n2: {n2}\")\n",
        "\n",
        "x1_bar = sample1.mean()  \n",
        "x2_bar = sample2.mean()  \n",
        "num = abs(x2_bar - x1_bar)\n",
        "den = sp * (((1/n1) + (1/n2))**0.5)\n",
        "\n",
        "Z_CAL = num/den\n",
        "lb = num - Z_TAB * den\n",
        "ub = num + Z_TAB * den\n",
        "\n",
        "print(\"\\nStep 1: Hypothesis statements: \")\n",
        "print(f\"H0: {H0}\")\n",
        "print(f\"H1: {H1}\")\n",
        "\n",
        "print(\"\\nStep 2: Z_CAL calculation: \")\n",
        "print(f\"Z-cal: {abs(Z_CAL)}\")\n",
        "\n",
        "print(\"\\nStep 3: Z_TAB value: \")\n",
        "print(f\"Z-tab: ({alpha} significance level,{tail} tailed test ): {Z_TAB}\")\n",
        "\n",
        "print(\"\\nStep 4: Decision Making\")\n",
        "\n",
        "if Z_CAL > Z_TAB:\n",
        "    print(\"Reject the null hypothesis (H0). \\n\\nStep 5:Conclusion\\nThere is a significant difference between the two samples.\")\n",
        "else:\n",
        "    print(\"Fail to reject the null hypothesis (H0).\\n\\nStep 5:Conclusion\\n  There is no significant difference between the two samples.\")\n",
        "\n",
        "print(f\"Confidence Interval: ({lb}, {ub})\")"
      ]
    },
    {
      "cell_type": "markdown",
      "metadata": {},
      "source": [
        "___"
      ]
    },
    {
      "cell_type": "code",
      "execution_count": 5,
      "metadata": {},
      "outputs": [],
      "source": [
        "def get_t_tab(df, alpha, tails):\n",
        "    t_table_1_tail = {\n",
        "        1: {0.1: 3.0777, 0.05: 6.3138, 0.01: 31.8205},\n",
        "        2: {0.1: 1.8856, 0.05: 2.9200, 0.01: 6.9646},\n",
        "        3: {0.1: 1.6377, 0.05: 2.3534, 0.01: 4.5407},\n",
        "        4: {0.1: 1.5332, 0.05: 2.1318, 0.01: 3.7469},\n",
        "        5: {0.1: 1.4759, 0.05: 2.0150, 0.01: 3.3649},\n",
        "        6: {0.1: 1.4398, 0.05: 1.9432, 0.01: 3.1427},\n",
        "        7: {0.1: 1.4149, 0.05: 1.8946, 0.01: 2.9980},\n",
        "        8: {0.1: 1.3968, 0.05: 1.8595, 0.01: 2.8965},\n",
        "        9: {0.1: 1.3830, 0.05: 1.8331, 0.01: 2.8214},\n",
        "        10: {0.1: 1.3722, 0.05: 1.8125, 0.01: 2.7638},\n",
        "        11: {0.1: 1.3634, 0.05: 1.7959, 0.01: 2.7181},\n",
        "        12: {0.1: 1.3562, 0.05: 1.7823, 0.01: 2.6810},\n",
        "        13: {0.1: 1.3502, 0.05: 1.7709, 0.01: 2.6503},\n",
        "        14: {0.1: 1.3450, 0.05: 1.7613, 0.01: 2.6245},\n",
        "        15: {0.1: 1.3406, 0.05: 1.7531, 0.01: 2.6025},\n",
        "        16: {0.1: 1.3368, 0.05: 1.7459, 0.01: 2.5835},\n",
        "        17: {0.1: 1.3334, 0.05: 1.7396, 0.01: 2.5669},\n",
        "        18: {0.1: 1.3304, 0.05: 1.7341, 0.01: 2.5524},\n",
        "        19: {0.1: 1.3277, 0.05: 1.7291, 0.01: 2.5395},\n",
        "        20: {0.1: 1.3253, 0.05: 1.7247, 0.01: 2.5280},\n",
        "        21: {0.1: 1.3232, 0.05: 1.7207, 0.01: 2.5176},\n",
        "        22: {0.1: 1.3212, 0.05: 1.7171, 0.01: 2.5083},\n",
        "        23: {0.1: 1.3195, 0.05: 1.7139, 0.01: 2.4999},\n",
        "        24: {0.1: 1.3178, 0.05: 1.7109, 0.01: 2.4922},\n",
        "        25: {0.1: 1.3163, 0.05: 1.7081, 0.01: 2.4851},\n",
        "        26: {0.1: 1.3150, 0.05: 1.7056, 0.01: 2.4786},\n",
        "        27: {0.1: 1.3137, 0.05: 1.7033, 0.01: 2.4727},\n",
        "        28: {0.1: 1.3125, 0.05: 1.7011, 0.01: 2.4671},\n",
        "        29: {0.1: 1.3114, 0.05: 1.6991, 0.01: 2.4620},\n",
        "        30: {0.1: 1.3104, 0.05: 1.6973, 0.01: 2.4573},\n",
        "    }\n",
        "\n",
        "    t_table_2_tail = {\n",
        "        1: {0.1: 6.3138, 0.05: 12.7062, 0.01: 63.6567},\n",
        "        2: {0.1: 2.9200, 0.05: 4.3027, 0.01: 9.9248},\n",
        "        3: {0.1: 2.3534, 0.05: 3.1824, 0.01: 5.8409},\n",
        "        4: {0.1: 2.1318, 0.05: 2.7764, 0.01: 4.6041},\n",
        "        5: {0.1: 2.0150, 0.05: 2.5706, 0.01: 4.0321},\n",
        "        6: {0.1: 1.9432, 0.05: 2.4469, 0.01: 3.7074},\n",
        "        7: {0.1: 1.8946, 0.05: 2.3646, 0.01: 3.4995},\n",
        "        8: {0.1: 1.8595, 0.05: 2.3060, 0.01: 3.3554},\n",
        "        9: {0.1: 1.8331, 0.05: 2.2622, 0.01: 3.2498},\n",
        "        10: {0.1: 1.8125, 0.05: 2.2281, 0.01: 3.1693},\n",
        "        11: {0.1: 1.7959, 0.05: 2.2010, 0.01: 3.1058},\n",
        "        12: {0.1: 1.7823, 0.05: 2.1788, 0.01: 3.0545},\n",
        "        13: {0.1: 1.7709, 0.05: 2.1604, 0.01: 3.0123},\n",
        "        14: {0.1: 1.7613, 0.05: 2.1448, 0.01: 2.9768},\n",
        "        15: {0.1: 1.7531, 0.05: 2.1314, 0.01: 2.9467},\n",
        "        16: {0.1: 1.7459, 0.05: 2.1199, 0.01: 2.9208},\n",
        "        17: {0.1: 1.7396, 0.05: 2.1098, 0.01: 2.8982},\n",
        "        18: {0.1: 1.7341, 0.05: 2.1009, 0.01: 2.8784},\n",
        "        19: {0.1: 1.7291, 0.05: 2.0930, 0.01: 2.8609},\n",
        "        20: {0.1: 1.7247, 0.05: 2.0860, 0.01: 2.8453},\n",
        "        21: {0.1: 1.7207, 0.05: 2.0796, 0.01: 2.8314},\n",
        "        22: {0.1: 1.7171, 0.05: 2.0739, 0.01: 2.8188},\n",
        "        23: {0.1: 1.7139, 0.05: 2.0687, 0.01: 2.8073},\n",
        "        24: {0.1: 1.7109, 0.05: 2.0639, 0.01: 2.7969},\n",
        "        25: {0.1: 1.7081, 0.05: 2.0595, 0.01: 2.7874},\n",
        "        26: {0.1: 1.7056, 0.05: 2.0555, 0.01: 2.7787},\n",
        "        27: {0.1: 1.7033, 0.05: 2.0518, 0.01: 2.7707},\n",
        "        28: {0.1: 1.7011, 0.05: 2.0484, 0.01: 2.7633},\n",
        "        29: {0.1: 1.6991, 0.05: 2.0452, 0.01: 2.7564},\n",
        "        30: {0.1: 1.6973, 0.05: 2.0423, 0.01: 2.7500},\n",
        "    }\n",
        "\n",
        "    t_table = t_table_1_tail if tails == 1 else t_table_2_tail\n",
        "\n",
        "    if df in t_table:\n",
        "        if alpha in t_table[df]:\n",
        "            return t_table[df][alpha]\n",
        "        else:\n",
        "            raise ValueError(f\"Invalid alpha value. Choose from {list(t_table[df].keys())}.\")\n",
        "    else:\n",
        "        raise ValueError(f\"Invalid degrees of freedom (df). Use a valid value available in the table.\")"
      ]
    },
    {
      "cell_type": "markdown",
      "metadata": {
        "id": "xVjaJDitljY_"
      },
      "source": [
        "# Small One-Sample t-Test for Population Mean"
      ]
    },
    {
      "cell_type": "markdown",
      "metadata": {
        "id": "lz5_cq4PX1DI"
      },
      "source": [
        "**Hypothesis Statements:**\n",
        "* **Null Hypothesis (H0):**  The sample mean age is equal to the hypothesized population mean age.\n",
        "\n",
        "* **Alternative Hypothesis (Ha):** The sample mean age is not equal to the hypothesized population mean age."
      ]
    },
    {
      "cell_type": "code",
      "execution_count": 6,
      "metadata": {
        "colab": {
          "base_uri": "https://localhost:8080/"
        },
        "id": "jSAh-N0wX1DI",
        "outputId": "f1f87655-664b-4e47-9ab2-69c26587e706"
      },
      "outputs": [
        {
          "name": "stdout",
          "output_type": "stream",
          "text": [
            "degrees_of_freedom:  19\n",
            "t_tab:  2.093\n",
            "\n",
            "Step 1: Hypothesis statements: \n",
            "H0: The sample mean age of people undergoing treatement is equal to the hypothesized population mean age.\n",
            "H1: The sample mean age of people undergoing treatement is not equal to the hypothesized population mean age.\n",
            "\n",
            "Step 2: t_CAL calculation: \n",
            "t-cal: 1.7241407705214908\n",
            "\n",
            "Step 3: t_TAB value: \n",
            "t-tab: (0.05 significance level,2 tailed test, 19 degrees of freedom ): 2.093\n",
            "\n",
            "Step 4: Decision Making\n",
            "Fail to reject the null hypothesis (H0).\n",
            "\n",
            "Step 5: Conclusion:\n",
            " There is no significant difference between the sample mean and the hypothesized population mean.\n",
            "Confidence Interval: (29.465154998093713, 35.534845001906284)\n"
          ]
        }
      ],
      "source": [
        "import pandas as pd\n",
        "import numpy as np\n",
        "from scipy import stats\n",
        "\n",
        "df = pd.read_csv('data.csv')\n",
        "\n",
        "H0 = \"The sample mean age of people undergoing treatement is equal to the hypothesized population mean age.\"\n",
        "H1 = \"The sample mean age of people undergoing treatement is not equal to the hypothesized population mean age.\"\n",
        "\n",
        "df = df[df['treatment'] == 'Yes']\n",
        "\n",
        "mu_hypothesis = 30\n",
        "\n",
        "sample_size = 20\n",
        "alpha = 0.05\n",
        "\n",
        "tail = 2\n",
        "\n",
        "sample = df['Age'].sample(n=sample_size, random_state=42)\n",
        "\n",
        "n = len(sample)\n",
        "degrees_of_freedom = n - 1\n",
        "print(\"degrees_of_freedom: \",degrees_of_freedom)\n",
        "\n",
        "sample_mean = sample.mean()\n",
        "\n",
        "sample_std = sample.std()\n",
        "\n",
        "num = abs(sample_mean - mu_hypothesis)\n",
        "den =(sample_std / np.sqrt(n-1))\n",
        "\n",
        "t_cal = num/den\n",
        "t_tab = get_t_tab(alpha=alpha,df=degrees_of_freedom, tails=tail)\n",
        "print(\"t_tab: \",t_tab)\n",
        "margin_of_error = t_tab * den\n",
        "lb = sample_mean - margin_of_error\n",
        "ub = sample_mean + margin_of_error\n",
        "\n",
        "print(\"\\nStep 1: Hypothesis statements: \")\n",
        "print(f\"H0: {H0}\")\n",
        "print(f\"H1: {H1}\")\n",
        "\n",
        "print(\"\\nStep 2: t_CAL calculation: \")\n",
        "print(f\"t-cal: {abs(t_cal)}\")\n",
        "\n",
        "print(\"\\nStep 3: t_TAB value: \")\n",
        "print(f\"t-tab: ({alpha} significance level,{tail} tailed test, {degrees_of_freedom} degrees of freedom ): {t_tab}\")\n",
        "\n",
        "print(\"\\nStep 4: Decision Making\")\n",
        "if abs(t_cal) > t_tab:\n",
        "    print(\"Reject the null hypothesis (H0).\\n\\nStep 5: Conclusion:\\n The sample mean is significantly different from the hypothesized population mean.\")\n",
        "else:\n",
        "    print(\"Fail to reject the null hypothesis (H0).\\n\\nStep 5: Conclusion:\\n There is no significant difference between the sample mean and the hypothesized population mean.\")\n",
        "    \n",
        "print(f\"Confidence Interval: ({lb}, {ub})\")"
      ]
    },
    {
      "cell_type": "markdown",
      "metadata": {
        "id": "aRrG4hxvlqRU"
      },
      "source": [
        "# Small Two-Sample t-Test for Population Mean"
      ]
    },
    {
      "cell_type": "markdown",
      "metadata": {
        "id": "BcPvnj1NX1DJ"
      },
      "source": [
        "**Hypothesis Statements:**\n",
        "* **Null Hypothesis (H0):** There is no significant difference in the average age between the two random samples.\n",
        "* **Alternative Hypothesis (Ha):** There is a significant difference in the average age between the two random samples."
      ]
    },
    {
      "cell_type": "code",
      "execution_count": 7,
      "metadata": {
        "colab": {
          "base_uri": "https://localhost:8080/"
        },
        "id": "w5agmGH_X1DJ",
        "outputId": "4ccec3cf-3263-464d-af64-48f8eb050a56"
      },
      "outputs": [
        {
          "name": "stdout",
          "output_type": "stream",
          "text": [
            "\n",
            "Step 1: Hypothesis statements: \n",
            "H0: There is no significant difference in the average age between the two groups.\n",
            "H1: There is a significant difference in the average age between the two groups.\n",
            "\n",
            "Step 2: t_CAL calculation: \n",
            "t-cal: 0.7546410315824557\n",
            "\n",
            "Step 3: t_TAB value: \n",
            "t-tab: (0.05 significance level,2 tailed test, 15 degrees of freedom ): 2.1314\n",
            "\n",
            "Step 4: Decision Making\n",
            "Fail to reject the null hypothesis (H0).\n",
            "\n",
            "Step 5: Conclusion:\n",
            " There is no significant difference in the average age between the two random samples.\n",
            "\n",
            "Step 6: \n",
            "Confidence Interval: (-9.667206102073543, 4.611650546517986)\n"
          ]
        }
      ],
      "source": [
        "from scipy import stats\n",
        "import pandas as pd\n",
        "\n",
        "df = pd.read_csv('data.csv')\n",
        "\n",
        "sample_size_A = 8\n",
        "sample_size_B = 9\n",
        "tail = 2\n",
        "\n",
        "sample_A = df[df['treatment'] == 'Yes']['Age'].sample(n=sample_size_A, random_state=42)\n",
        "sample_B = df[df['treatment'] == 'No']['Age'].sample(n=sample_size_B, random_state=42)\n",
        "\n",
        "alpha = 0.05\n",
        "\n",
        "degrees_of_freedom = sample_size_A + sample_size_B - 2\n",
        "\n",
        "t_tab = get_t_tab(alpha=alpha, df=degrees_of_freedom, tails=tail)\n",
        "\n",
        "H0 = \"There is no significant difference in the average age between the two groups.\"\n",
        "H1 = \"There is a significant difference in the average age between the two groups.\"\n",
        "\n",
        "mean_diff = sample_A.mean() - sample_B.mean()\n",
        "num = mean_diff\n",
        "\n",
        "s1 = sample_A.std()\n",
        "s2 = sample_B.std()\n",
        "sp2 = ((sample_size_A - 1) * s1*s1 + (sample_size_B - 1) * s2*s2) / (sample_size_A + sample_size_B - 2)\n",
        "den = (sp2*((1/(sample_size_A-1)) + (1/(sample_size_A-1))))**0.5\n",
        "\n",
        "t_cal = abs(num)/den\n",
        "\n",
        "lb = num - t_tab*den\n",
        "ub = num + t_tab*den\n",
        "\n",
        "print(\"\\nStep 1: Hypothesis statements: \")\n",
        "print(f\"H0: {H0}\")\n",
        "print(f\"H1: {H1}\")\n",
        "\n",
        "print(\"\\nStep 2: t_CAL calculation: \")\n",
        "print(f\"t-cal: {abs(t_cal)}\")\n",
        "\n",
        "print(\"\\nStep 3: t_TAB value: \")\n",
        "print(f\"t-tab: ({alpha} significance level,{tail} tailed test, {degrees_of_freedom} degrees of freedom ): {t_tab}\")\n",
        "\n",
        "print(\"\\nStep 4: Decision Making\")\n",
        "if t_cal > t_tab:\n",
        "    print(\"Reject the null hypothesis (H0).\\n\\nStep 5: Conclusion:\\n There is significant difference in the average age between the two random samples.\")\n",
        "else:\n",
        "    print(\"Fail to reject the null hypothesis (H0).\\n\\nStep 5: Conclusion:\\n There is no significant difference in the average age between the two random samples.\")\n",
        "\n",
        "print(\"\\nStep 6: \")\n",
        "print(f\"Confidence Interval: ({lb}, {ub})\")"
      ]
    },
    {
      "cell_type": "markdown",
      "metadata": {
        "id": "9ruArOa9X1DK"
      },
      "source": [
        "_______________________\n",
        "# One sample proportion test - z-val"
      ]
    },
    {
      "cell_type": "markdown",
      "metadata": {
        "id": "8SN2wnO2X1DK"
      },
      "source": [
        "* **Null Hypothesis (H0):** No significant difference, gender distribution equals a certain hypothesised proportion.\n",
        "* **Alternative Hypothesis (Ha):** Significant difference, gender distribution equals a certain hypothesised proportion."
      ]
    },
    {
      "cell_type": "code",
      "execution_count": 8,
      "metadata": {
        "colab": {
          "base_uri": "https://localhost:8080/"
        },
        "id": "wk153PNJX1DK",
        "outputId": "38b917cb-350f-4891-b0e7-9cf17a637899"
      },
      "outputs": [
        {
          "name": "stdout",
          "output_type": "stream",
          "text": [
            "male_count 444\n",
            "\n",
            "Step 1: Hypothesis statements: \n",
            "H0: p = 0.5\n",
            "H1: p != 0.5\n",
            "\n",
            "Step 2: Z_CAL calculation: \n",
            "Z-cal: 11.107145386177766\n",
            "\n",
            "Step 3: Z_TAB value: \n",
            "Z-tab: (0.05 significance level,2 tailed test ): 1.96\n",
            "\n",
            "Step 4: Decision Making\n",
            "Reject the null hypothesis (H0). \n",
            "\n",
            "Step 5: Conclusion\n",
            " The observed proportion of Male is significantly different from 0.5.\n",
            "Step 6: \n",
            "Confidence Interval: (0.6847248612232393, 0.7638885156119972)\n"
          ]
        }
      ],
      "source": [
        "df = pd.read_csv('data.csv')\n",
        "p_hypothesis = p = 0.5\n",
        "df = df[df[\"treatment\"]==\"Yes\"]\n",
        "\n",
        "male_count = df[df['Gender'] == 'Male'].shape[0]\n",
        "print(\"male_count\", male_count)\n",
        "\n",
        "\n",
        "total_observations = df.shape[0]\n",
        "\n",
        "p_cap = male_count / total_observations\n",
        "q = 1 - p\n",
        "\n",
        "alpha = 0.05\n",
        "tail = 2\n",
        "\n",
        "z_tab = get_Z_TAB(side=tail,significance_level=alpha)\n",
        "\n",
        "num = abs(p_cap - p)\n",
        "den = (p * q / total_observations)**0.5\n",
        "\n",
        "\n",
        "z_cal = num/den\n",
        "\n",
        "lb = p_cap - z_tab*den\n",
        "ub = p_cap + z_tab*den\n",
        "\n",
        "H0 = \"p = \"+str(p)\n",
        "H1 = \"p != \"+str(p)\n",
        "\n",
        "print(\"\\nStep 1: Hypothesis statements: \")\n",
        "print(f\"H0: {H0}\")\n",
        "print(f\"H1: {H1}\")\n",
        "\n",
        "print(\"\\nStep 2: Z_CAL calculation: \")\n",
        "print(f\"Z-cal: {abs(z_cal)}\")\n",
        "\n",
        "print(\"\\nStep 3: Z_TAB value: \")\n",
        "print(f\"Z-tab: ({alpha} significance level,{tail} tailed test ): {z_tab}\")\n",
        "\n",
        "print(\"\\nStep 4: Decision Making\")\n",
        "if z_cal > z_tab:\n",
        "    print(f\"Reject the null hypothesis (H0). \\n\\nStep 5: Conclusion\\n The observed proportion of Male is significantly different from {p_hypothesis}.\")\n",
        "else:\n",
        "    print(f\"Fail to reject the null hypothesis (H0). \\n\\nStep 5: Conclusion\\n The observed proportion of Male is not significantly different from {p_hypothesis}.\")\n",
        "\n",
        "print(f\"Step 6: \\nConfidence Interval: ({lb}, {ub})\")"
      ]
    },
    {
      "cell_type": "markdown",
      "metadata": {
        "id": "gjhUCst_X1DL"
      },
      "source": [
        "______________________________\n",
        "# Two sample proportion test"
      ]
    },
    {
      "cell_type": "markdown",
      "metadata": {
        "id": "bWaMdYLFknrz"
      },
      "source": [
        "* **Analysis:** Compares proportions of 'Yes' in 'family_history' between 'Male' and 'Female' groups in a dataset.\n",
        "* **Testing:** Calculates Z-score to assess the significance of the difference, using a 5% significance level (alpha).\n",
        "* **Conclusion:** Determines whether to reject the null hypothesis based on Z-score compared to critical values, indicating significant or non-significant differences in proportions."
      ]
    },
    {
      "cell_type": "code",
      "execution_count": 9,
      "metadata": {
        "colab": {
          "base_uri": "https://localhost:8080/"
        },
        "id": "an5Jx4oPX1DM",
        "outputId": "10df7e5f-ce0a-4d88-801b-69c8ca2cbd94"
      },
      "outputs": [
        {
          "name": "stdout",
          "output_type": "stream",
          "text": [
            "\n",
            "Step 1: Hypothesis statements: \n",
            "H0: p_A = p_B\n",
            "H1: Difference in proportions (p_A != p_B)\n",
            "\n",
            "Step 2: Z_CAL calculation: \n",
            "Z-cal: 1.6031928754467164\n",
            "\n",
            "Step 3: Z_TAB value: \n",
            "Z-tab: (0.05 significance level, 2-tailed test): 1.96\n",
            "\n",
            "Step 4: Decision Making\n",
            "Fail to reject the null hypothesis (H0). \n",
            "\n",
            "Step 5: Conclusion\n",
            " The proportions of Male in both groups are not significantly different.\n",
            "Step 6: \n",
            "Confidence Interval: (-0.013005391814812833, 0.12987610467406427)\n"
          ]
        }
      ],
      "source": [
        "df = pd.read_csv('data.csv')\n",
        "alpha = 0.05\n",
        "df_treatment = df[df['treatment'] == 'Yes']\n",
        "\n",
        "group_A = df_treatment[df_treatment['family_history'] == 'Yes']\n",
        "group_B = df_treatment[df_treatment['family_history'] == 'No']\n",
        "\n",
        "X_A = group_A[group_A['Gender'] == 'Male'].shape[0]\n",
        "X_B = group_B[group_B['Gender'] == 'Male'].shape[0]\n",
        "\n",
        "p_A = group_A['Gender'].value_counts(normalize=True)['Male']\n",
        "p_B = group_B['Gender'].value_counts(normalize=True)['Male']\n",
        "\n",
        "n_A = len(group_A)\n",
        "n_B = len(group_B)\n",
        "\n",
        "p_A_cap = X_A / n_A\n",
        "p_B_cap = X_B / n_B\n",
        "\n",
        "p_bar = (X_A+X_B) / (n_A+n_B)\n",
        "q_bar = 1 - p_bar\n",
        "\n",
        "num = abs(p_A_cap - p_B_cap)\n",
        "den = (p_bar * q_bar * ((1/n_A) + (1/n_B)))**0.5\n",
        "\n",
        "z_cal = num/den\n",
        "z_tab = get_Z_TAB(side=2,significance_level=alpha)\n",
        "\n",
        "lb = num - z_tab*den\n",
        "ub = num + z_tab*den\n",
        "\n",
        "H0 = f\"p_A = p_B\"\n",
        "H1 = f\"Difference in proportions (p_A != p_B)\"\n",
        "\n",
        "print(\"\\nStep 1: Hypothesis statements: \")\n",
        "print(f\"H0: {H0}\")\n",
        "print(f\"H1: {H1}\")\n",
        "\n",
        "print(\"\\nStep 2: Z_CAL calculation: \")\n",
        "print(f\"Z-cal: {abs(z_cal)}\")\n",
        "\n",
        "print(\"\\nStep 3: Z_TAB value: \")\n",
        "print(f\"Z-tab: ({alpha} significance level, 2-tailed test): {z_tab}\")\n",
        "\n",
        "print(\"\\nStep 4: Decision Making\")\n",
        "if abs(z_cal) > z_tab:\n",
        "    print(f\"Reject the null hypothesis (H0). \\n\\nStep 5: Conclusion\\n The proportions of Male in both groups are significantly different.\")\n",
        "else:\n",
        "    print(f\"Fail to reject the null hypothesis (H0). \\n\\nStep 5: Conclusion\\n The proportions of Male in both groups are not significantly different.\")\n",
        "\n",
        "print(f\"Step 6: \\nConfidence Interval: ({lb}, {ub})\")"
      ]
    },
    {
      "cell_type": "markdown",
      "metadata": {},
      "source": [
        "___"
      ]
    },
    {
      "cell_type": "markdown",
      "metadata": {},
      "source": [
        "<center> ***<i> Thank You Sir </i>***</center>"
      ]
    }
  ],
  "metadata": {
    "colab": {
      "provenance": []
    },
    "kernelspec": {
      "display_name": "Python 3 (ipykernel)",
      "language": "python",
      "name": "python3"
    },
    "language_info": {
      "codemirror_mode": {
        "name": "ipython",
        "version": 3
      },
      "file_extension": ".py",
      "mimetype": "text/x-python",
      "name": "python",
      "nbconvert_exporter": "python",
      "pygments_lexer": "ipython3",
      "version": "3.11.2"
    },
    "orig_nbformat": 4
  },
  "nbformat": 4,
  "nbformat_minor": 0
}
